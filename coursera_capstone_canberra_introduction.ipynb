{
 "cells": [
  {
   "cell_type": "markdown",
   "id": "b4a30a1f-3684-45b6-9e3a-b2d86d5c2137",
   "metadata": {},
   "source": [
    "# Capstone Project - The Battle of the Suburbs in Canberra\n",
    "### Applied Data Science Capstone by IBM/Coursera"
   ]
  },
  {
   "cell_type": "markdown",
   "id": "6d6e6553-7a29-4d93-bcd0-9c6b77fe671b",
   "metadata": {},
   "source": [
    "## Introduction: Business Problem <a name=\"introduction\"></a>"
   ]
  },
  {
   "cell_type": "markdown",
   "id": "cf239d64-107c-4f9e-ba90-db2008633dd1",
   "metadata": {},
   "source": [
    "Canberra, the capital city of Australia, is often known as \"The Bush Capital\" to Aussies (and yes, we put that on our vehicle number plates). It is nothing like the usual metropolis like Madrid or Beijing which you would expect from other countries. It is an entirely planned garden-like city and in recent years, Canberra has been ranked among the world's best cities to live. As per 2021, there are about 430 thousands residents living accross the 814 square kilometeres region and the poupulation density of Canberra is only about 528/km2. This figure is not only low compared to other capital cities around the world but also only ranks 6 among all the 8 Australia capitals.\n",
    "\n",
    "However for any new settlers in Canberra, it could be a bit hard at the begining to find the right area to live in. Canberra has a total of more than 100 local suburbs and 7 districts (or town centers as Canberrans refere to) and most of the facities, entertaiments and large shopping centers are located in these town centers. And if you ask any Canberran for suggestions about the using the public transport system to travel between these suburbs or town centers, he/she propaly would recommend you to get a car as the first thing after you find an accommadation. The rental cost or property price among these suburbs can also differ to a large extent based on their locations.\n",
    "\n",
    "Assume that we have a young family who just moved from interstates or overseas and would like to purchase a 3 or 4 bedrooms house in Canberra to settle down. They set a budget for thier property hunting. What would be the best suburbs that they should look into in terms of propety price, travel distance to town centers etc. In this study, I will try to find the answer for them using the data science skills that I have acquired during the courses."
   ]
  }
 ],
 "metadata": {
  "kernelspec": {
   "display_name": "Python 3",
   "language": "python",
   "name": "python3"
  },
  "language_info": {
   "codemirror_mode": {
    "name": "ipython",
    "version": 3
   },
   "file_extension": ".py",
   "mimetype": "text/x-python",
   "name": "python",
   "nbconvert_exporter": "python",
   "pygments_lexer": "ipython3",
   "version": "3.6.12"
  }
 },
 "nbformat": 4,
 "nbformat_minor": 5
}
