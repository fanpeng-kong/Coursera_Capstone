{
 "cells": [
  {
   "cell_type": "markdown",
   "id": "046dce89-1755-4e58-bda3-731df399ded7",
   "metadata": {},
   "source": [
    "# Capstone Project - The Battle of the Suburbs in Canberra\n",
    "### Applied Data Science Capstone by IBM/Coursera"
   ]
  },
  {
   "cell_type": "markdown",
   "id": "9a0c37e3-d292-4341-ae4b-58ad1767daf2",
   "metadata": {},
   "source": [
    "## Introduction: Business Problem <a name=\"introduction\"></a>"
   ]
  },
  {
   "cell_type": "markdown",
   "id": "a720cc0c-bbe7-4d84-b3f8-7b5e19389995",
   "metadata": {},
   "source": [
    "Canberra, the capital city of Australia, is often known as \"The Bush Capital\" to Aussies (and yes, we put that on our vehicle number plates). It is nothing like the usual metropolis like Madrid or Beijing which you would expect from other countries. It is an entirely planned garden-like city and in recent years, Canberra has been ranked among the world's best cities to live. As per 2021, there are about 430 thousands residents living accross the 814 square kilometeres region and the poupulation density of Canberra is only about 528/km2. This figure is not only low compared to other capital cities around the world but also only ranks 6 among all the 8 Australia capitals.\n",
    "\n",
    "However for any new settlers in Canberra, it could be a bit hard at the begining to find the right area to live in. Canberra has a total of more than 100 local suburbs and 7 districts (or town centers as Canberrans refere to) and most of the facities, entertaiments and large shopping centers are located in these town centers. And if you ask any Canberran for suggestions about the using the public transport system to travel between these suburbs or town centers, he/she propaly would recommend you to get a car as the first thing after you find an accommadation. The rental cost or property price among these suburbs can also differ to a large extent based on their locations.\n",
    "\n",
    "Assume that we have a young family who just moved from interstates or overseas and would like to purchase a 3 or 4 bedrooms house in Canberra to settle down. They set a budget for thier property hunting. What would be the best suburbs that they should look into in terms of propety price, travel distance to town centers etc. In this study, I will try to find the answer for them using the data science skills that I have acquired during the courses."
   ]
  },
  {
   "cell_type": "markdown",
   "id": "bd330046-0db0-49b4-b952-b93f092346d4",
   "metadata": {},
   "source": [
    "## Data <a name=\"data\"></a>"
   ]
  },
  {
   "cell_type": "markdown",
   "id": "2b7e2329-dd63-457b-92b7-fefa8a31e0b0",
   "metadata": {},
   "source": [
    "First, I set out the required dataset in order to characterise the suburbs. As the choice of the interesting suburb to purchase property is mainly based on real estate price and convenience to local facilities, I will try to gather the median price for 3/4 bedrooms in each suburb, distance of each suburb to its nearest town centers and the number and type of venues close to each suburb.\n",
    "\n",
    "I will exercise different methods from webscraping to open datasets to collect the requred data for my analysis:\n",
    "\n",
    "* For the list of town centers and suburbs in Canberra, I will use webscrping to extract relevant fileds from the table found in the Wikipedia page [List of Canberra Suburbs](https://en.wikipedia.org/wiki/List_of_Canberra_suburbs)\n",
    "\n",
    "* The latitude and longitude of town centers and suburbs will be retrieved using the geocoder library, after which the distance from suburb to town center can be calculated using the [Google Distance Matrix API](https://developers.google.com/maps/documentation/distance-matrix) or the Python [Haversine](https://pypi.org/project/haversine/) library.\n",
    "* The number and type of venues around each suburb will be retrieved by calling the Forsquare APIs covered in this course.\n",
    "* The median price for 3- or 4-bedroom houses will be scraped from [Domain's suburb profile](https://www.domain.com.au/suburb-profile/) page.\n",
    "\n",
    "Steps to retrive these data will be explained in more details below but first let us import some of the commonly used Python libraries."
   ]
  }
 ],
 "metadata": {
  "kernelspec": {
   "display_name": "Python 3",
   "language": "python",
   "name": "python3"
  },
  "language_info": {
   "codemirror_mode": {
    "name": "ipython",
    "version": 3
   },
   "file_extension": ".py",
   "mimetype": "text/x-python",
   "name": "python",
   "nbconvert_exporter": "python",
   "pygments_lexer": "ipython3",
   "version": "3.6.12"
  }
 },
 "nbformat": 4,
 "nbformat_minor": 5
}
