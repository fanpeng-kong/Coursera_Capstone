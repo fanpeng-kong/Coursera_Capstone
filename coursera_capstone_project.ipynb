{
 "cells": [
  {
   "cell_type": "markdown",
   "id": "4beb699b-450c-48d3-9195-0d9088c172a1",
   "metadata": {},
   "source": [
    "# Coursera Capstone Project"
   ]
  },
  {
   "cell_type": "markdown",
   "id": "cc05ef40-673a-4f4c-b488-e40dd126876b",
   "metadata": {},
   "source": [
    "This notebook is used for the capstone project for the Coursera Applied Data Science Capstone course."
   ]
  },
  {
   "cell_type": "code",
   "execution_count": 1,
   "id": "00c075f2-62df-4851-8d62-949e044c45cb",
   "metadata": {},
   "outputs": [],
   "source": [
    "import numpy as np\n",
    "import pandas as pd"
   ]
  },
  {
   "cell_type": "code",
   "execution_count": 2,
   "id": "80fafdf5-e1f1-48fb-810b-96dc1e6c8d5e",
   "metadata": {},
   "outputs": [
    {
     "name": "stdout",
     "output_type": "stream",
     "text": [
      "Hello Capstone Project Course!\n"
     ]
    }
   ],
   "source": [
    "print(\"Hello Capstone Project Course!\")"
   ]
  },
  {
   "cell_type": "code",
   "execution_count": null,
   "id": "93e50593-e5d7-4590-a5e4-394a5404dcf2",
   "metadata": {},
   "outputs": [],
   "source": []
  }
 ],
 "metadata": {
  "kernelspec": {
   "display_name": "Python 3.6.9 64-bit ('Py3Station': venv)",
   "language": "python",
   "name": "python36964bitpy3stationvenv21da113df42943adbed4bb1e502f9b17"
  },
  "language_info": {
   "codemirror_mode": {
    "name": "ipython",
    "version": 3
   },
   "file_extension": ".py",
   "mimetype": "text/x-python",
   "name": "python",
   "nbconvert_exporter": "python",
   "pygments_lexer": "ipython3",
   "version": "3.6.12"
  }
 },
 "nbformat": 4,
 "nbformat_minor": 5
}
