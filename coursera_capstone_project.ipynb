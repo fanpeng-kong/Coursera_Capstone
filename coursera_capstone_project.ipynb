{
 "cells": [
  {
   "cell_type": "markdown",
   "id": "e600f603",
   "metadata": {
    "collapsed": false
   },
   "source": [
    "# Coursera Capstone Project"
   ]
  },
  {
   "cell_type": "markdown",
   "id": "eeda95bc",
   "metadata": {
    "collapsed": false
   },
   "source": [
    "This notebook is used for the capstone project for the Coursera Applied Data Science Capstone course."
   ]
  },
  {
   "cell_type": "code",
   "execution_count": 1,
   "id": "efe2ccf0",
   "metadata": {
    "collapsed": false
   },
   "outputs": [],
   "source": [
    "import numpy as np\n",
    "import pandas as pd"
   ]
  },
  {
   "cell_type": "code",
   "execution_count": 2,
   "id": "777faf66",
   "metadata": {
    "collapsed": false
   },
   "outputs": [
    {
     "name": "stdout",
     "output_type": "stream",
     "text": [
      "Hello Capstone Project Course!\n"
     ]
    }
   ],
   "source": [
    "print(\"Hello Capstone Project Course!\")"
   ]
  },
  {
   "cell_type": "code",
   "execution_count": 3,
   "id": "e5fb57e4",
   "metadata": {
    "collapsed": false
   },
   "outputs": [
    {
     "name": "stdout",
     "output_type": "stream",
     "text": [
      "Notebook from Emacs\n"
     ]
    }
   ],
   "source": [
    "print(\"Notebook from Emacs\")"
   ]
  }
 ],
 "metadata": {
  "kernelspec": {
   "argv": [
    "/home/fanpeng/VirtualEnvs/Py3Station/bin/python",
    "-m",
    "ipykernel_launcher",
    "-f",
    "{connection_file}"
   ],
   "display_name": "Python 3.6.9 64-bit ('Py3Station': venv)",
   "env": {
    "ALTERNATE_EDITOR": "",
    "AMD_ENTRYPOINT": "vs/workbench/services/extensions/node/extensionHostProcess",
    "APPLICATION_INSIGHTS_NO_DIAGNOSTIC_CHANNEL": "true",
    "CHROME_DESKTOP": "code-url-handler.desktop",
    "CLUTTER_IM_MODULE": "xim",
    "CMAKE_PREFIX_PATH": "/opt/ros/melodic",
    "DBUS_SESSION_BUS_ADDRESS": "unix:path=/run/user/1000/bus",
    "DEFAULTS_PATH": "/usr/share/gconf/pop.default.path",
    "DESKTOP_SESSION": "pop",
    "DISPLAY": ":0",
    "EDITOR": "emacsclient -t",
    "ELECTRON_RUN_AS_NODE": "1",
    "FONTCONFIG_PATH": "/etc/fonts",
    "GDMSESSION": "pop",
    "GIO_LAUNCHED_DESKTOP_FILE": "/usr/share/applications/code.desktop",
    "GIO_LAUNCHED_DESKTOP_FILE_PID": "30821",
    "GJS_DEBUG_OUTPUT": "stderr",
    "GJS_DEBUG_TOPICS": "JS ERROR;JS LOG",
    "GNOME_DESKTOP_SESSION_ID": "this-is-deprecated",
    "GNOME_SHELL_SESSION_MODE": "pop",
    "GPG_AGENT_INFO": "/run/user/1000/gnupg/S.gpg-agent:0:1",
    "GTK_IM_MODULE": "ibus",
    "GTK_MODULES": "gail:atk-bridge",
    "HOME": "/home/fanpeng",
    "IM_CONFIG_PHASE": "2",
    "KICAD_PATH": "/usr/share/kicad",
    "KIGITHUB": "https://github.com/KiCad",
    "LANG": "en_US.UTF-8",
    "LANGUAGE": "en_US:en",
    "LC_ADDRESS": "en_US.UTF-8",
    "LC_IDENTIFICATION": "en_US.UTF-8",
    "LC_MEASUREMENT": "en_US.UTF-8",
    "LC_MONETARY": "en_US.UTF-8",
    "LC_NAME": "en_US.UTF-8",
    "LC_NUMERIC": "en_US.UTF-8",
    "LC_PAPER": "en_US.UTF-8",
    "LC_TELEPHONE": "en_US.UTF-8",
    "LC_TIME": "en_US.UTF-8",
    "LD_LIBRARY_PATH": "/usr/local/cuda-10.1/lib64:/opt/ros/melodic/lib",
    "LESSCLOSE": "/usr/bin/lesspipe %s %s",
    "LESSOPEN": "| /usr/bin/lesspipe %s",
    "LOGNAME": "fanpeng",
    "LS_COLORS": "",
    "MANDATORY_PATH": "/usr/share/gconf/pop.mandatory.path",
    "ORIGINAL_XDG_CURRENT_DESKTOP": "pop:GNOME",
    "PAPERSIZE": "letter",
    "PATH": "/home/fanpeng/VirtualEnvs/Py3Station/bin:/home/fanpeng/.cargo/bin:/home/fanpeng/.local/bin:/home/fanpeng/bin:/usr/local/cuda-10.1/bin:/usr/local/cuda-10.1/NsightCompute-2019.3:/usr/local/texlive/2019/bin/x86_64-linux:/opt/ros/melodic/bin:/home/fanpeng/.cargo/bin:/home/fanpeng/.local/bin:/home/fanpeng/bin:/usr/local/sbin:/usr/local/bin:/usr/sbin:/usr/bin:/sbin:/bin:/usr/games:/usr/local/games:/snap/bin",
    "PIPE_LOGGING": "true",
    "PKG_CONFIG_PATH": "/opt/ros/melodic/lib/pkgconfig",
    "PS1": "(Py3Station) ",
    "PWD": "/home/fanpeng",
    "PYSYN_CDBS": "/home/fanpeng/Data/CDBS",
    "PYTHONIOENCODING": "utf-8",
    "PYTHONPATH": "/opt/ros/melodic/lib/python2.7/dist-packages::/home/fanpeng/Projects/Python/Modules/",
    "PYTHONUNBUFFERED": "1",
    "QT4_IM_MODULE": "xim",
    "QT_ACCESSIBILITY": "1",
    "QT_IM_MODULE": "ibus",
    "ROSLISP_PACKAGE_DIRECTORIES": "",
    "ROS_DISTRO": "melodic",
    "ROS_ETC_DIR": "/opt/ros/melodic/etc/ros",
    "ROS_MASTER_URI": "http://localhost:11311",
    "ROS_PACKAGE_PATH": "/opt/ros/melodic/share",
    "ROS_PYTHON_VERSION": "2",
    "ROS_ROOT": "/opt/ros/melodic/share/ros",
    "ROS_VERSION": "1",
    "RUST_SRC_PATH": "/home/fanpeng/.rustup/toolchains/stable-x86_64-unknown-linux-gnu/lib/rustlib/src/rust/src",
    "SESSION_MANAGER": "local/pop-os:@/tmp/.ICE-unix/3164,unix/pop-os:/tmp/.ICE-unix/3164",
    "SHELL": "/bin/bash",
    "SHLVL": "2",
    "SSH_AGENT_PID": "3244",
    "SSH_AUTH_SOCK": "/run/user/1000/keyring/ssh",
    "TEXTDOMAIN": "im-config",
    "TEXTDOMAINDIR": "/usr/share/locale/",
    "USER": "fanpeng",
    "USERNAME": "fanpeng",
    "VERBOSE_LOGGING": "true",
    "VIRTUAL_ENV": "/home/fanpeng/VirtualEnvs/Py3Station",
    "VISUAL": "emacsclient -c -a emacs",
    "VSCODE_HANDLES_UNCAUGHT_ERRORS": "true",
    "VSCODE_IPC_HOOK": "/run/user/1000/vscode-2c5645c3-1.46.1-main.sock",
    "VSCODE_IPC_HOOK_EXTHOST": "/tmp/vscode-ipc-0977bce9-bd90-4a44-97cf-61552d332c34.sock",
    "VSCODE_LOGS": "/home/fanpeng/.config/Code/logs/20200624T170921",
    "VSCODE_LOG_STACK": "false",
    "VSCODE_NLS_CONFIG": "{\"locale\":\"en-us\",\"availableLanguages\":{},\"_languagePackSupport\":true}",
    "VSCODE_NODE_CACHED_DATA_DIR": "/home/fanpeng/.config/Code/CachedData/cd9ea6488829f560dc949a8b2fb789f3cdc05f5d",
    "VSCODE_PID": "30821",
    "WINDOWPATH": "2",
    "XAUTHORITY": "/run/user/1000/gdm/Xauthority",
    "XDG_CONFIG_DIRS": "/etc/xdg/xdg-pop:/etc/xdg",
    "XDG_CURRENT_DESKTOP": "Unity",
    "XDG_DATA_DIRS": "/usr/share/pop:/usr/local/share/:/usr/share/:/var/lib/snapd/desktop",
    "XDG_MENU_PREFIX": "gnome-",
    "XDG_RUNTIME_DIR": "/run/user/1000",
    "XDG_SEAT": "seat0",
    "XDG_SESSION_DESKTOP": "pop",
    "XDG_SESSION_ID": "4",
    "XDG_SESSION_TYPE": "x11",
    "XDG_VTNR": "2",
    "XILINXD_LICENSE_FILE": "2100@canpwlic002.ad.unsw.edu.au",
    "XMODIFIERS": "@im=ibus",
    "_": "/home/fanpeng/VirtualEnvs/Py3Station/bin/python"
   },
   "interrupt_mode": "signal",
   "language": "python",
   "metadata": {
    "interpreter": {
     "architecture": 3,
     "displayName": "Python 3.6.9 64-bit ('Py3Station': venv)",
     "envName": "Py3Station",
     "fileHash": "839a6be4bd40c3a2607fb84140d939bbe894cad08b87829a6117e2e5f4ab8aad9570068db368ed20428cd5c3c4cd9dcf3fd971096eed80e28dd4bd1ab3fdba89",
     "path": "/home/fanpeng/VirtualEnvs/Py3Station/bin/python",
     "sysPrefix": "/home/fanpeng/VirtualEnvs/Py3Station",
     "type": "Venv",
     "version": {
      "build": [],
      "loose": false,
      "major": 3,
      "minor": 6,
      "options": {
       "includePrerelease": false,
       "loose": false
      },
      "patch": 9,
      "prerelease": [
       "final"
      ],
      "raw": "3.6.9-final",
      "version": "3.6.9-final"
     }
    }
   },
   "name": "python36964bitpy3stationvenv21da113df42943adbed4bb1e502f9b17"
  },
  "language_info": {
   "codemirror_mode": {
    "name": "ipython",
    "version": 3
   },
   "file_extension": ".py",
   "mimetype": "text/x-python",
   "name": "python",
   "nbconvert_exporter": "python",
   "pygments_lexer": "ipython3",
   "version": "3.6.12"
  },
  "name": "coursera_capstone_project.ipynb"
 },
 "nbformat": 4,
 "nbformat_minor": 5
}
